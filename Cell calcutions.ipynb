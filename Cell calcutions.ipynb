{
 "cells": [
  {
   "cell_type": "code",
   "execution_count": 2,
   "metadata": {},
   "outputs": [
    {
     "data": {
      "text/plain": [
       "[752, 1509, 1999, 2448, 1058, 2356, 2483, 2146, 979, 2233]"
      ]
     },
     "execution_count": 2,
     "metadata": {},
     "output_type": "execute_result"
    }
   ],
   "source": [
    "import random\n",
    "demand = []\n",
    "for i in range(0,10):\n",
    "    demand.append(random.randint(700,2500))\n",
    "demand"
   ]
  },
  {
   "cell_type": "code",
   "execution_count": 5,
   "metadata": {},
   "outputs": [],
   "source": [
    "part_name = ['a','b','c','d','e','f','g','h','i','j']\n",
    "no_stages = [2,4,4,2,2,4,4,2,2,2]\n",
    "#no_fixt = [4,4,8,2,4,4,8,2,4,2]\n",
    "thput = [25,30,33,58,77,54,45,32,27,54]"
   ]
  },
  {
   "cell_type": "code",
   "execution_count": 6,
   "metadata": {},
   "outputs": [
    {
     "data": {
      "text/plain": [
       "[3.83, 1.59, 1.09, 0.51, 0.88, 0.57, 0.64, 1.05, 2.72, 0.6]"
      ]
     },
     "execution_count": 6,
     "metadata": {},
     "output_type": "execute_result"
    }
   ],
   "source": [
    "import math\n",
    "util = []\n",
    "for i in range(0,10):\n",
    "    util.append(72000/(thput[i]*demand[i]))\n",
    "util1 = [round(i,2) for i in util]\n",
    "util2 = [math.ceil(i) for i in util1]\n",
    "no_fixt = [no_stages[i]*util2[i] for i in range(0,10)]\n",
    "no_fixt\n",
    "util1"
   ]
  },
  {
   "cell_type": "code",
   "execution_count": 7,
   "metadata": {},
   "outputs": [
    {
     "data": {
      "text/plain": [
       "48"
      ]
     },
     "execution_count": 7,
     "metadata": {},
     "output_type": "execute_result"
    }
   ],
   "source": [
    "no_statn = sum(no_fixt)\n",
    "no_statn"
   ]
  },
  {
   "cell_type": "code",
   "execution_count": 8,
   "metadata": {},
   "outputs": [],
   "source": [
    "cell_lst = []\n",
    "for i in range(0,int(no_statn/2)):\n",
    "    cell_lst.append('Cell'+str(i+1))\n",
    "    \n"
   ]
  },
  {
   "cell_type": "code",
   "execution_count": 17,
   "metadata": {},
   "outputs": [
    {
     "name": "stdout",
     "output_type": "stream",
     "text": [
      "[77, 32, 22, 10, 18, 11, 13, 21, 54, 12]\n",
      "[2, 4, 4, 2, 2, 4, 4, 2, 2, 2]\n",
      "[8, 8, 8, 2, 2, 4, 4, 4, 6, 2]\n",
      "[4, 2, 2, 1, 1, 1, 1, 2, 3, 1]\n"
     ]
    }
   ],
   "source": [
    "prod_hr = [round(util1[i]*20) for i in range(0,10)]\n",
    "no_set = [round(no_fixt[i]/no_stages[i]) for i in range(0,10)]\n",
    "print(prod_hr)\n",
    "print(no_stages)\n",
    "print(no_fixt)\n",
    "print(no_set)"
   ]
  },
  {
   "cell_type": "code",
   "execution_count": 18,
   "metadata": {},
   "outputs": [
    {
     "name": "stdout",
     "output_type": "stream",
     "text": [
      "{'a': 8, 'b': 8, 'c': 8, 'd': 2, 'e': 2, 'f': 4, 'g': 4, 'h': 4, 'i': 6, 'j': 2}\n"
     ]
    }
   ],
   "source": [
    "so_cell = []\n",
    "do_cell = []\n",
    "part_fixt = {}\n",
    "for key in part_name:\n",
    "    for value in no_fixt:\n",
    "        part_fixt[key]=value\n",
    "        no_fixt.remove(value)\n",
    "        break\n",
    "        \n",
    "print(part_fixt)"
   ]
  },
  {
   "cell_type": "markdown",
   "metadata": {},
   "source": [
    "Stuck in, how to create the cell.\n",
    "For now need to learn the disctionary with multiple values associted with one key.\n",
    "Start line wise\n",
    "In first line how many single opening and how many double opening assemblies. Similiarly go for all 4 lines."
   ]
  },
  {
   "cell_type": "code",
   "execution_count": null,
   "metadata": {},
   "outputs": [],
   "source": []
  }
 ],
 "metadata": {
  "kernelspec": {
   "display_name": "Python 3",
   "language": "python",
   "name": "python3"
  },
  "language_info": {
   "codemirror_mode": {
    "name": "ipython",
    "version": 3
   },
   "file_extension": ".py",
   "mimetype": "text/x-python",
   "name": "python",
   "nbconvert_exporter": "python",
   "pygments_lexer": "ipython3",
   "version": "3.8.5"
  }
 },
 "nbformat": 4,
 "nbformat_minor": 4
}
